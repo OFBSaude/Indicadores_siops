{
 "cells": [
  {
   "cell_type": "markdown",
   "id": "9cd68e26",
   "metadata": {},
   "source": [
    "# Analise - Final "
   ]
  },
  {
   "cell_type": "markdown",
   "id": "58e78630",
   "metadata": {},
   "source": [
    "## Revisões e Erros "
   ]
  },
  {
   "cell_type": "markdown",
   "id": "e95bf5ad",
   "metadata": {},
   "source": [
    "1.  Deflacionar indicadores - Aplicar função de deflação \n",
    "2.  Regiões  \n",
    "    2.1. Repetidas - Caucaia e Sobral \n",
    "    2.2. Inexistente - Cariri e Farias Brito \n",
    "3. Recalcular a indices per capita - somando população do da região \n",
    "4. IDH - Repetidas - Baixo \n"
   ]
  },
  {
   "cell_type": "markdown",
   "id": "ced9bdbb",
   "metadata": {},
   "source": [
    "## Biblioteca"
   ]
  },
  {
   "cell_type": "code",
   "execution_count": 2,
   "id": "6749e8cb",
   "metadata": {},
   "outputs": [],
   "source": [
    "# Biblioteca \n",
    "import pandas as pd \n",
    "import numpy as np \n",
    "import json\n",
    "from database import * \n",
    "import datetime\n",
    "import plotly.express as px"
   ]
  },
  {
   "cell_type": "markdown",
   "id": "faafa1c0",
   "metadata": {},
   "source": [
    "## Função de deflação"
   ]
  },
  {
   "cell_type": "code",
   "execution_count": 3,
   "id": "ddd079a0",
   "metadata": {},
   "outputs": [],
   "source": [
    "def deflação(serie,ano_base):\n",
    "    IPCA = {'1980':99.2504889542286,'1981':95.6230442372937,'1982':104.790433277431,'1983':164.01202400196,'1984':215.263325738616,'1985':242.229795207366,'1986':79.6644968645082,'1987':363.411523705732,'1988':980.213487131888,'1989':1972.91162333472,'1990':1620.96646812495,'1991':472.6999999996,'1992':1119.10075082943,'1993':2477.14712129698,'1994':916.46,'1995':22.4081616590914,'1996':9.56495181758998,'1997':5.22431853525425,'1998':1.65497817994227,'1999':8.93978878068851,'2000':5.97459334239816,'2001':7.67343641407332,'2002':12.5302733566877,'2003':9.30051280040003,'2004':7.59949584882642,'2005':5.68922681873509,'2006':3.14151613157687,'2007':4.45765855337372,'2008':5.90272439065465,'2009':4.31165006256784,'2010':5.90868872179453,'2011':6.50335274368017,'2012':5.83859471814745,'2013':5.91068325533108,'2014':6.40747079590815,'2015':10.6730281339751,'2016':6.28798821322138,'2017':2.94742132043471,'2018':3.74558117019155,'2019':4.30615161715953,'2020':4.51745688642451}\n",
    "    deflac =[]\n",
    "    for i in serie.index:\n",
    "        x = (IPCA[str(i)/IPCA[str(2019)])*serie.loc[i]\n",
    "        deflac.append(x)\n",
    "        \n",
    "    return(deflac)"
   ]
  },
  {
   "cell_type": "markdown",
   "id": "6d4e3b07",
   "metadata": {},
   "source": [
    "## Função de Series Temporais "
   ]
  },
  {
   "cell_type": "code",
   "execution_count": 6,
   "id": "e2157d83",
   "metadata": {},
   "outputs": [],
   "source": [
    "def time_serie(dataframe):\n",
    "    new_serie=[]\n",
    "    for i in dataframe:\n",
    "        new_serie.append(datetime.datetime.strptime(str(i),'%Y'))\n",
    "        \n",
    "    return new_serie"
   ]
  },
  {
   "cell_type": "code",
   "execution_count": 7,
   "id": "1628405e",
   "metadata": {},
   "outputs": [
    {
     "data": {
      "text/html": [
       "<div>\n",
       "<style scoped>\n",
       "    .dataframe tbody tr th:only-of-type {\n",
       "        vertical-align: middle;\n",
       "    }\n",
       "\n",
       "    .dataframe tbody tr th {\n",
       "        vertical-align: top;\n",
       "    }\n",
       "\n",
       "    .dataframe thead th {\n",
       "        text-align: right;\n",
       "    }\n",
       "</style>\n",
       "<table border=\"1\" class=\"dataframe\">\n",
       "  <thead>\n",
       "    <tr style=\"text-align: right;\">\n",
       "      <th></th>\n",
       "      <th>0</th>\n",
       "    </tr>\n",
       "  </thead>\n",
       "  <tbody>\n",
       "    <tr>\n",
       "      <th>2013-01-01</th>\n",
       "      <td>1603350.0</td>\n",
       "    </tr>\n",
       "    <tr>\n",
       "      <th>2013-01-01</th>\n",
       "      <td>53101.4</td>\n",
       "    </tr>\n",
       "    <tr>\n",
       "      <th>2013-01-01</th>\n",
       "      <td>32281.5</td>\n",
       "    </tr>\n",
       "    <tr>\n",
       "      <th>2013-01-01</th>\n",
       "      <td>1017720.0</td>\n",
       "    </tr>\n",
       "    <tr>\n",
       "      <th>2013-01-01</th>\n",
       "      <td>500254.0</td>\n",
       "    </tr>\n",
       "    <tr>\n",
       "      <th>...</th>\n",
       "      <td>...</td>\n",
       "    </tr>\n",
       "    <tr>\n",
       "      <th>2019-01-01</th>\n",
       "      <td>20706.8</td>\n",
       "    </tr>\n",
       "    <tr>\n",
       "      <th>2019-01-01</th>\n",
       "      <td>-6000.0</td>\n",
       "    </tr>\n",
       "    <tr>\n",
       "      <th>2019-01-01</th>\n",
       "      <td>-6000.0</td>\n",
       "    </tr>\n",
       "    <tr>\n",
       "      <th>2019-01-01</th>\n",
       "      <td>0.0</td>\n",
       "    </tr>\n",
       "    <tr>\n",
       "      <th>2019-01-01</th>\n",
       "      <td>31877700.0</td>\n",
       "    </tr>\n",
       "  </tbody>\n",
       "</table>\n",
       "<p>172501 rows × 1 columns</p>\n",
       "</div>"
      ],
      "text/plain": [
       "                     0\n",
       "2013-01-01   1603350.0\n",
       "2013-01-01     53101.4\n",
       "2013-01-01     32281.5\n",
       "2013-01-01   1017720.0\n",
       "2013-01-01    500254.0\n",
       "...                ...\n",
       "2019-01-01     20706.8\n",
       "2019-01-01     -6000.0\n",
       "2019-01-01     -6000.0\n",
       "2019-01-01         0.0\n",
       "2019-01-01  31877700.0\n",
       "\n",
       "[172501 rows x 1 columns]"
      ]
     },
     "execution_count": 7,
     "metadata": {},
     "output_type": "execute_result"
    }
   ],
   "source": [
    "# dados = ReceitasAdicionais.select(ReceitasAdicionais.municipio, ClassificaçõesMunicipio.Região, ClassificaçõesMunicipio.IDH,ReceitasAdicionais.codigo_Municipio, ReceitasAdicionais.estado, ReceitasAdicionais.ano, ReceitasAdicionais.campo, ReceitasAdicionais.Receitas_realizadas_Bimestre,(ReceitasAdicionais.Receitas_realizadas_Bimestre/Populacao.populacao_estimada).alias('Receitas_pc')).join(ClassificaçõesMunicipio,on=(ReceitasAdicionais.municipio==ClassificaçõesMunicipio.Municipio)).join(Populacao,on=((ReceitasAdicionais.municipio==Populacao.municipio) |(ReceitasAdicionais.ano==Populacao.Ano))).where((ReceitasAdicionais.campo=='Provenientes da União')|(ReceitasAdicionais.campo == 'Provenientes dos Estados')| (ReceitasAdicionais.campo== \"TOTAL RECEITAS ADICIONAIS PARA FINANCIAMENTO DA SAÚDE\") &(ReceitasAdicionais.estado == \"Ceará\"))\n",
    "#Apuração= pd.DataFrame(dados.dicts())\n",
    "Apuração = pd.read_csv(\"Tabela_apuração.csv\")\n",
    "Apuração_def = pd.DataFrame(Apuração['Receitas_realizadas_Bimestre'].values,index= time_serie(Apuração['ano']))\n",
    "Apuração_def"
   ]
  },
  {
   "cell_type": "code",
   "execution_count": 48,
   "id": "9f0b705d",
   "metadata": {},
   "outputs": [
    {
     "data": {
      "text/plain": [
       "datetime.datetime(2019, 1, 1, 0, 0)"
      ]
     },
     "execution_count": 48,
     "metadata": {},
     "output_type": "execute_result"
    }
   ],
   "source": [
    "datetime.datetime.strptime(str(2019),\"%Y\")"
   ]
  },
  {
   "cell_type": "code",
   "execution_count": 5,
   "id": "d4e54ebb",
   "metadata": {},
   "outputs": [],
   "source": [
    "# Importando dados de Receitas Adicionais\n",
    "\n",
    "#data = ReceitasAdicionais.select(ReceitasAdicionais.municipio, ClassificaçõesMunicipio.Região, ClassificaçõesMunicipio.IDH,ReceitasAdicionais.codigo_Municipio, ReceitasAdicionais.estado, ReceitasAdicionais.ano, ReceitasAdicionais.campo, ReceitasAdicionais.Receitas_realizadas_Bimestre,(ReceitasAdicionais.Receitas_realizadas_Bimestre/Populacao.populacao_estimada).alias('Receitas_pc')).join(ClassificaçõesMunicipio,on=(ReceitasAdicionais.municipio == ClassificaçõesMunicipio.Municipio)).join(Populacao,on=((ReceitasAdicionais.municipio==Populacao.municipio)|(ReceitasAdicionais.ano == População.ano)).where((ReceitasAdicionais.campo=='Provenientes da União')|(ReceitasAdicionais.campo == 'Provenientes dos Estados')| (ReceitasAdicionais.campo== \"TOTAL DAS RECEITAS PARA APURAÇÃO DA APLICAÇÃO EM AÇÕES E SERVIÇOS PÚBLICOS DE SAÚDE (III) = I + II\") &(ReceitasAdicionais.estado == \"Ceará\"))\n",
    "#Adicional = pd.DataFrame(dados.dicts())\n",
    "Adicional = pd.read_csv(\"adicional.csv\")\n",
    "Adicional_def = pd.DataFrame(Adicional['Receitas_realizadas_Bimestre'].values,index= time_serie(Adicional['ano']))\n",
    "Adicional['Receitas_realizadas_Bimestre'] = Adicional_def.values\n"
   ]
  },
  {
   "cell_type": "code",
   "execution_count": null,
   "id": "4e3d77dc",
   "metadata": {},
   "outputs": [],
   "source": []
  },
  {
   "cell_type": "raw",
   "id": "f8830255",
   "metadata": {},
   "source": [
    "#  Deflacionar indicadores - Aplicar função de deflação"
   ]
  },
  {
   "cell_type": "markdown",
   "id": "02642af4",
   "metadata": {},
   "source": [
    "## 1. Receita Municipal total - Região"
   ]
  },
  {
   "cell_type": "code",
   "execution_count": 6,
   "id": "315ef72e",
   "metadata": {},
   "outputs": [],
   "source": [
    "tabela={'Região':[],'2013':[],'2014':[],'2015':[],'2016':[],'2017':[],'2018':[],'2019':[]}\n",
    "for Região in np.unique(Apuração['Região']):\n",
    "        tabela['Região'].append(Região)\n",
    "        for ano in np.unique(Apuração['ano']):\n",
    "            região = Apuração[(Apuração['Região']==Região) & (Apuração['ano']==ano)]\n",
    "            numerador = sum(região[região['campo']=='RECEITA DE IMPOSTOS LÍQUIDA (I)']['Receitas_realizadas_Bimestre'])\n",
    "            tabela[str(ano)].append(round(numerador/1000000,2))"
   ]
  },
  {
   "cell_type": "code",
   "execution_count": 7,
   "id": "2320cb14",
   "metadata": {
    "scrolled": true
   },
   "outputs": [
    {
     "data": {
      "text/html": [
       "<div>\n",
       "<style scoped>\n",
       "    .dataframe tbody tr th:only-of-type {\n",
       "        vertical-align: middle;\n",
       "    }\n",
       "\n",
       "    .dataframe tbody tr th {\n",
       "        vertical-align: top;\n",
       "    }\n",
       "\n",
       "    .dataframe thead th {\n",
       "        text-align: right;\n",
       "    }\n",
       "</style>\n",
       "<table border=\"1\" class=\"dataframe\">\n",
       "  <thead>\n",
       "    <tr style=\"text-align: right;\">\n",
       "      <th></th>\n",
       "      <th>Região</th>\n",
       "      <th>2013</th>\n",
       "      <th>2014</th>\n",
       "      <th>2015</th>\n",
       "      <th>2016</th>\n",
       "      <th>2017</th>\n",
       "      <th>2018</th>\n",
       "      <th>2019</th>\n",
       "    </tr>\n",
       "  </thead>\n",
       "  <tbody>\n",
       "    <tr>\n",
       "      <th>0</th>\n",
       "      <td>Acaraú</td>\n",
       "      <td>83.10</td>\n",
       "      <td>108.60</td>\n",
       "      <td>89.50</td>\n",
       "      <td>118.88</td>\n",
       "      <td>99.14</td>\n",
       "      <td>155.64</td>\n",
       "      <td>183.90</td>\n",
       "    </tr>\n",
       "    <tr>\n",
       "      <th>1</th>\n",
       "      <td>Aracati</td>\n",
       "      <td>87.33</td>\n",
       "      <td>108.64</td>\n",
       "      <td>140.65</td>\n",
       "      <td>146.09</td>\n",
       "      <td>183.30</td>\n",
       "      <td>199.97</td>\n",
       "      <td>232.65</td>\n",
       "    </tr>\n",
       "    <tr>\n",
       "      <th>2</th>\n",
       "      <td>Baturité</td>\n",
       "      <td>45.53</td>\n",
       "      <td>51.76</td>\n",
       "      <td>52.33</td>\n",
       "      <td>65.33</td>\n",
       "      <td>61.58</td>\n",
       "      <td>102.11</td>\n",
       "      <td>75.31</td>\n",
       "    </tr>\n",
       "    <tr>\n",
       "      <th>3</th>\n",
       "      <td>BrejoSanto</td>\n",
       "      <td>112.08</td>\n",
       "      <td>209.22</td>\n",
       "      <td>278.22</td>\n",
       "      <td>284.28</td>\n",
       "      <td>182.02</td>\n",
       "      <td>173.70</td>\n",
       "      <td>223.00</td>\n",
       "    </tr>\n",
       "    <tr>\n",
       "      <th>4</th>\n",
       "      <td>Camocim</td>\n",
       "      <td>49.73</td>\n",
       "      <td>53.60</td>\n",
       "      <td>54.55</td>\n",
       "      <td>70.23</td>\n",
       "      <td>62.39</td>\n",
       "      <td>98.25</td>\n",
       "      <td>96.42</td>\n",
       "    </tr>\n",
       "    <tr>\n",
       "      <th>5</th>\n",
       "      <td>Canidé</td>\n",
       "      <td>40.31</td>\n",
       "      <td>37.90</td>\n",
       "      <td>46.19</td>\n",
       "      <td>67.97</td>\n",
       "      <td>69.04</td>\n",
       "      <td>71.13</td>\n",
       "      <td>70.00</td>\n",
       "    </tr>\n",
       "    <tr>\n",
       "      <th>6</th>\n",
       "      <td>Cariri</td>\n",
       "      <td>8.33</td>\n",
       "      <td>20.49</td>\n",
       "      <td>29.92</td>\n",
       "      <td>15.77</td>\n",
       "      <td>0.00</td>\n",
       "      <td>18.67</td>\n",
       "      <td>19.39</td>\n",
       "    </tr>\n",
       "    <tr>\n",
       "      <th>7</th>\n",
       "      <td>Cascavel</td>\n",
       "      <td>204.42</td>\n",
       "      <td>239.35</td>\n",
       "      <td>284.25</td>\n",
       "      <td>306.59</td>\n",
       "      <td>335.53</td>\n",
       "      <td>392.99</td>\n",
       "      <td>415.25</td>\n",
       "    </tr>\n",
       "    <tr>\n",
       "      <th>8</th>\n",
       "      <td>Caucaia</td>\n",
       "      <td>1207.10</td>\n",
       "      <td>1886.83</td>\n",
       "      <td>2186.63</td>\n",
       "      <td>1898.59</td>\n",
       "      <td>1749.15</td>\n",
       "      <td>1670.35</td>\n",
       "      <td>1840.36</td>\n",
       "    </tr>\n",
       "    <tr>\n",
       "      <th>9</th>\n",
       "      <td>Crateús</td>\n",
       "      <td>120.45</td>\n",
       "      <td>136.46</td>\n",
       "      <td>133.17</td>\n",
       "      <td>428.47</td>\n",
       "      <td>177.34</td>\n",
       "      <td>213.27</td>\n",
       "      <td>242.21</td>\n",
       "    </tr>\n",
       "    <tr>\n",
       "      <th>10</th>\n",
       "      <td>Crato</td>\n",
       "      <td>70.55</td>\n",
       "      <td>91.42</td>\n",
       "      <td>104.84</td>\n",
       "      <td>100.96</td>\n",
       "      <td>118.29</td>\n",
       "      <td>164.98</td>\n",
       "      <td>178.68</td>\n",
       "    </tr>\n",
       "    <tr>\n",
       "      <th>11</th>\n",
       "      <td>FariasBrito</td>\n",
       "      <td>90.09</td>\n",
       "      <td>101.96</td>\n",
       "      <td>108.17</td>\n",
       "      <td>91.87</td>\n",
       "      <td>130.47</td>\n",
       "      <td>138.86</td>\n",
       "      <td>139.02</td>\n",
       "    </tr>\n",
       "    <tr>\n",
       "      <th>12</th>\n",
       "      <td>Fortaleza</td>\n",
       "      <td>8009.45</td>\n",
       "      <td>9676.49</td>\n",
       "      <td>10775.90</td>\n",
       "      <td>11219.64</td>\n",
       "      <td>12420.06</td>\n",
       "      <td>13626.65</td>\n",
       "      <td>14821.71</td>\n",
       "    </tr>\n",
       "    <tr>\n",
       "      <th>13</th>\n",
       "      <td>Icó</td>\n",
       "      <td>31.27</td>\n",
       "      <td>46.40</td>\n",
       "      <td>69.03</td>\n",
       "      <td>63.42</td>\n",
       "      <td>49.64</td>\n",
       "      <td>58.09</td>\n",
       "      <td>61.74</td>\n",
       "    </tr>\n",
       "    <tr>\n",
       "      <th>14</th>\n",
       "      <td>Iguatú</td>\n",
       "      <td>236.36</td>\n",
       "      <td>249.69</td>\n",
       "      <td>301.44</td>\n",
       "      <td>333.05</td>\n",
       "      <td>278.08</td>\n",
       "      <td>375.82</td>\n",
       "      <td>338.01</td>\n",
       "    </tr>\n",
       "    <tr>\n",
       "      <th>15</th>\n",
       "      <td>Itapipoca</td>\n",
       "      <td>145.13</td>\n",
       "      <td>140.42</td>\n",
       "      <td>135.30</td>\n",
       "      <td>185.15</td>\n",
       "      <td>164.63</td>\n",
       "      <td>219.14</td>\n",
       "      <td>252.55</td>\n",
       "    </tr>\n",
       "    <tr>\n",
       "      <th>16</th>\n",
       "      <td>JuazeiroNorte</td>\n",
       "      <td>52.21</td>\n",
       "      <td>78.02</td>\n",
       "      <td>65.35</td>\n",
       "      <td>77.31</td>\n",
       "      <td>116.60</td>\n",
       "      <td>109.58</td>\n",
       "      <td>121.32</td>\n",
       "    </tr>\n",
       "    <tr>\n",
       "      <th>17</th>\n",
       "      <td>LimoeirodoNorte</td>\n",
       "      <td>136.46</td>\n",
       "      <td>142.55</td>\n",
       "      <td>138.59</td>\n",
       "      <td>152.00</td>\n",
       "      <td>180.10</td>\n",
       "      <td>244.32</td>\n",
       "      <td>233.04</td>\n",
       "    </tr>\n",
       "    <tr>\n",
       "      <th>18</th>\n",
       "      <td>Maracanaú</td>\n",
       "      <td>429.39</td>\n",
       "      <td>544.72</td>\n",
       "      <td>598.35</td>\n",
       "      <td>597.09</td>\n",
       "      <td>659.21</td>\n",
       "      <td>785.34</td>\n",
       "      <td>922.91</td>\n",
       "    </tr>\n",
       "    <tr>\n",
       "      <th>19</th>\n",
       "      <td>Quixadá</td>\n",
       "      <td>148.96</td>\n",
       "      <td>153.23</td>\n",
       "      <td>185.82</td>\n",
       "      <td>215.97</td>\n",
       "      <td>206.63</td>\n",
       "      <td>258.55</td>\n",
       "      <td>245.63</td>\n",
       "    </tr>\n",
       "    <tr>\n",
       "      <th>20</th>\n",
       "      <td>Russas</td>\n",
       "      <td>75.53</td>\n",
       "      <td>90.29</td>\n",
       "      <td>115.65</td>\n",
       "      <td>101.79</td>\n",
       "      <td>122.33</td>\n",
       "      <td>136.77</td>\n",
       "      <td>143.54</td>\n",
       "    </tr>\n",
       "    <tr>\n",
       "      <th>21</th>\n",
       "      <td>Sobral</td>\n",
       "      <td>306.86</td>\n",
       "      <td>406.74</td>\n",
       "      <td>427.68</td>\n",
       "      <td>428.19</td>\n",
       "      <td>550.70</td>\n",
       "      <td>601.96</td>\n",
       "      <td>633.75</td>\n",
       "    </tr>\n",
       "    <tr>\n",
       "      <th>22</th>\n",
       "      <td>Tauá</td>\n",
       "      <td>61.57</td>\n",
       "      <td>61.56</td>\n",
       "      <td>81.39</td>\n",
       "      <td>86.92</td>\n",
       "      <td>78.48</td>\n",
       "      <td>86.08</td>\n",
       "      <td>90.99</td>\n",
       "    </tr>\n",
       "    <tr>\n",
       "      <th>23</th>\n",
       "      <td>Tianguá</td>\n",
       "      <td>64.20</td>\n",
       "      <td>91.35</td>\n",
       "      <td>96.41</td>\n",
       "      <td>131.06</td>\n",
       "      <td>130.32</td>\n",
       "      <td>169.26</td>\n",
       "      <td>151.84</td>\n",
       "    </tr>\n",
       "  </tbody>\n",
       "</table>\n",
       "</div>"
      ],
      "text/plain": [
       "             Região     2013     2014      2015      2016      2017      2018  \\\n",
       "0            Acaraú    83.10   108.60     89.50    118.88     99.14    155.64   \n",
       "1           Aracati    87.33   108.64    140.65    146.09    183.30    199.97   \n",
       "2          Baturité    45.53    51.76     52.33     65.33     61.58    102.11   \n",
       "3        BrejoSanto   112.08   209.22    278.22    284.28    182.02    173.70   \n",
       "4           Camocim    49.73    53.60     54.55     70.23     62.39     98.25   \n",
       "5            Canidé    40.31    37.90     46.19     67.97     69.04     71.13   \n",
       "6            Cariri     8.33    20.49     29.92     15.77      0.00     18.67   \n",
       "7          Cascavel   204.42   239.35    284.25    306.59    335.53    392.99   \n",
       "8           Caucaia  1207.10  1886.83   2186.63   1898.59   1749.15   1670.35   \n",
       "9           Crateús   120.45   136.46    133.17    428.47    177.34    213.27   \n",
       "10            Crato    70.55    91.42    104.84    100.96    118.29    164.98   \n",
       "11      FariasBrito    90.09   101.96    108.17     91.87    130.47    138.86   \n",
       "12        Fortaleza  8009.45  9676.49  10775.90  11219.64  12420.06  13626.65   \n",
       "13              Icó    31.27    46.40     69.03     63.42     49.64     58.09   \n",
       "14           Iguatú   236.36   249.69    301.44    333.05    278.08    375.82   \n",
       "15        Itapipoca   145.13   140.42    135.30    185.15    164.63    219.14   \n",
       "16    JuazeiroNorte    52.21    78.02     65.35     77.31    116.60    109.58   \n",
       "17  LimoeirodoNorte   136.46   142.55    138.59    152.00    180.10    244.32   \n",
       "18        Maracanaú   429.39   544.72    598.35    597.09    659.21    785.34   \n",
       "19          Quixadá   148.96   153.23    185.82    215.97    206.63    258.55   \n",
       "20           Russas    75.53    90.29    115.65    101.79    122.33    136.77   \n",
       "21           Sobral   306.86   406.74    427.68    428.19    550.70    601.96   \n",
       "22             Tauá    61.57    61.56     81.39     86.92     78.48     86.08   \n",
       "23          Tianguá    64.20    91.35     96.41    131.06    130.32    169.26   \n",
       "\n",
       "        2019  \n",
       "0     183.90  \n",
       "1     232.65  \n",
       "2      75.31  \n",
       "3     223.00  \n",
       "4      96.42  \n",
       "5      70.00  \n",
       "6      19.39  \n",
       "7     415.25  \n",
       "8    1840.36  \n",
       "9     242.21  \n",
       "10    178.68  \n",
       "11    139.02  \n",
       "12  14821.71  \n",
       "13     61.74  \n",
       "14    338.01  \n",
       "15    252.55  \n",
       "16    121.32  \n",
       "17    233.04  \n",
       "18    922.91  \n",
       "19    245.63  \n",
       "20    143.54  \n",
       "21    633.75  \n",
       "22     90.99  \n",
       "23    151.84  "
      ]
     },
     "execution_count": 7,
     "metadata": {},
     "output_type": "execute_result"
    }
   ],
   "source": [
    "pd.DataFrame(tabela).to_csv(\"1. Receita Municipal total - Região.csv\")\n",
    "pd.DataFrame(tabela) "
   ]
  },
  {
   "cell_type": "raw",
   "id": "a5dc7cc5",
   "metadata": {},
   "source": [
    "# Repetidas - Caucaia e Sobral \n",
    "# Inexistente - Cariri e Farias Brito "
   ]
  },
  {
   "cell_type": "markdown",
   "id": "2e34adf5",
   "metadata": {},
   "source": [
    "## 2. Receita Municipal per capita - Região"
   ]
  },
  {
   "cell_type": "code",
   "execution_count": 8,
   "id": "c1bbbd89",
   "metadata": {},
   "outputs": [
    {
     "ename": "KeyError",
     "evalue": "'Receitas_pc'",
     "output_type": "error",
     "traceback": [
      "\u001b[0;31m---------------------------------------------------------------------------\u001b[0m",
      "\u001b[0;31mKeyError\u001b[0m                                  Traceback (most recent call last)",
      "\u001b[0;32m/usr/lib/python3.9/site-packages/pandas/core/indexes/base.py\u001b[0m in \u001b[0;36mget_loc\u001b[0;34m(self, key, method, tolerance)\u001b[0m\n\u001b[1;32m   3360\u001b[0m             \u001b[0;32mtry\u001b[0m\u001b[0;34m:\u001b[0m\u001b[0;34m\u001b[0m\u001b[0;34m\u001b[0m\u001b[0m\n\u001b[0;32m-> 3361\u001b[0;31m                 \u001b[0;32mreturn\u001b[0m \u001b[0mself\u001b[0m\u001b[0;34m.\u001b[0m\u001b[0m_engine\u001b[0m\u001b[0;34m.\u001b[0m\u001b[0mget_loc\u001b[0m\u001b[0;34m(\u001b[0m\u001b[0mcasted_key\u001b[0m\u001b[0;34m)\u001b[0m\u001b[0;34m\u001b[0m\u001b[0;34m\u001b[0m\u001b[0m\n\u001b[0m\u001b[1;32m   3362\u001b[0m             \u001b[0;32mexcept\u001b[0m \u001b[0mKeyError\u001b[0m \u001b[0;32mas\u001b[0m \u001b[0merr\u001b[0m\u001b[0;34m:\u001b[0m\u001b[0;34m\u001b[0m\u001b[0;34m\u001b[0m\u001b[0m\n",
      "\u001b[0;32m/usr/lib/python3.9/site-packages/pandas/_libs/index.pyx\u001b[0m in \u001b[0;36mpandas._libs.index.IndexEngine.get_loc\u001b[0;34m()\u001b[0m\n",
      "\u001b[0;32m/usr/lib/python3.9/site-packages/pandas/_libs/index.pyx\u001b[0m in \u001b[0;36mpandas._libs.index.IndexEngine.get_loc\u001b[0;34m()\u001b[0m\n",
      "\u001b[0;32mpandas/_libs/hashtable_class_helper.pxi\u001b[0m in \u001b[0;36mpandas._libs.hashtable.PyObjectHashTable.get_item\u001b[0;34m()\u001b[0m\n",
      "\u001b[0;32mpandas/_libs/hashtable_class_helper.pxi\u001b[0m in \u001b[0;36mpandas._libs.hashtable.PyObjectHashTable.get_item\u001b[0;34m()\u001b[0m\n",
      "\u001b[0;31mKeyError\u001b[0m: 'Receitas_pc'",
      "\nThe above exception was the direct cause of the following exception:\n",
      "\u001b[0;31mKeyError\u001b[0m                                  Traceback (most recent call last)",
      "\u001b[0;32m<ipython-input-8-f68999913e24>\u001b[0m in \u001b[0;36m<module>\u001b[0;34m\u001b[0m\n\u001b[1;32m      4\u001b[0m         \u001b[0;32mfor\u001b[0m \u001b[0mano\u001b[0m \u001b[0;32min\u001b[0m \u001b[0mnp\u001b[0m\u001b[0;34m.\u001b[0m\u001b[0munique\u001b[0m\u001b[0;34m(\u001b[0m\u001b[0mApuração\u001b[0m\u001b[0;34m[\u001b[0m\u001b[0;34m'ano'\u001b[0m\u001b[0;34m]\u001b[0m\u001b[0;34m)\u001b[0m\u001b[0;34m:\u001b[0m\u001b[0;34m\u001b[0m\u001b[0;34m\u001b[0m\u001b[0m\n\u001b[1;32m      5\u001b[0m             \u001b[0mregião\u001b[0m \u001b[0;34m=\u001b[0m \u001b[0mApuração\u001b[0m\u001b[0;34m[\u001b[0m\u001b[0;34m(\u001b[0m\u001b[0mApuração\u001b[0m\u001b[0;34m[\u001b[0m\u001b[0;34m'Região'\u001b[0m\u001b[0;34m]\u001b[0m\u001b[0;34m==\u001b[0m\u001b[0mRegião\u001b[0m\u001b[0;34m)\u001b[0m \u001b[0;34m&\u001b[0m \u001b[0;34m(\u001b[0m\u001b[0mApuração\u001b[0m\u001b[0;34m[\u001b[0m\u001b[0;34m'ano'\u001b[0m\u001b[0;34m]\u001b[0m\u001b[0;34m==\u001b[0m\u001b[0mano\u001b[0m\u001b[0;34m)\u001b[0m\u001b[0;34m]\u001b[0m\u001b[0;34m\u001b[0m\u001b[0;34m\u001b[0m\u001b[0m\n\u001b[0;32m----> 6\u001b[0;31m             \u001b[0mnumerador\u001b[0m \u001b[0;34m=\u001b[0m \u001b[0msum\u001b[0m\u001b[0;34m(\u001b[0m\u001b[0mregião\u001b[0m\u001b[0;34m[\u001b[0m\u001b[0mregião\u001b[0m\u001b[0;34m[\u001b[0m\u001b[0;34m'campo'\u001b[0m\u001b[0;34m]\u001b[0m\u001b[0;34m==\u001b[0m\u001b[0;34m'RECEITA DE IMPOSTOS LÍQUIDA (I)'\u001b[0m\u001b[0;34m]\u001b[0m\u001b[0;34m[\u001b[0m\u001b[0;34m'Receitas_pc'\u001b[0m\u001b[0;34m]\u001b[0m\u001b[0;34m)\u001b[0m\u001b[0;34m\u001b[0m\u001b[0;34m\u001b[0m\u001b[0m\n\u001b[0m\u001b[1;32m      7\u001b[0m             \u001b[0mtabela\u001b[0m\u001b[0;34m[\u001b[0m\u001b[0mstr\u001b[0m\u001b[0;34m(\u001b[0m\u001b[0mano\u001b[0m\u001b[0;34m)\u001b[0m\u001b[0;34m]\u001b[0m\u001b[0;34m.\u001b[0m\u001b[0mappend\u001b[0m\u001b[0;34m(\u001b[0m\u001b[0mround\u001b[0m\u001b[0;34m(\u001b[0m\u001b[0mnumerador\u001b[0m\u001b[0;34m,\u001b[0m\u001b[0;36m2\u001b[0m\u001b[0;34m)\u001b[0m\u001b[0;34m)\u001b[0m\u001b[0;34m\u001b[0m\u001b[0;34m\u001b[0m\u001b[0m\n",
      "\u001b[0;32m/usr/lib/python3.9/site-packages/pandas/core/frame.py\u001b[0m in \u001b[0;36m__getitem__\u001b[0;34m(self, key)\u001b[0m\n\u001b[1;32m   3456\u001b[0m             \u001b[0;32mif\u001b[0m \u001b[0mself\u001b[0m\u001b[0;34m.\u001b[0m\u001b[0mcolumns\u001b[0m\u001b[0;34m.\u001b[0m\u001b[0mnlevels\u001b[0m \u001b[0;34m>\u001b[0m \u001b[0;36m1\u001b[0m\u001b[0;34m:\u001b[0m\u001b[0;34m\u001b[0m\u001b[0;34m\u001b[0m\u001b[0m\n\u001b[1;32m   3457\u001b[0m                 \u001b[0;32mreturn\u001b[0m \u001b[0mself\u001b[0m\u001b[0;34m.\u001b[0m\u001b[0m_getitem_multilevel\u001b[0m\u001b[0;34m(\u001b[0m\u001b[0mkey\u001b[0m\u001b[0;34m)\u001b[0m\u001b[0;34m\u001b[0m\u001b[0;34m\u001b[0m\u001b[0m\n\u001b[0;32m-> 3458\u001b[0;31m             \u001b[0mindexer\u001b[0m \u001b[0;34m=\u001b[0m \u001b[0mself\u001b[0m\u001b[0;34m.\u001b[0m\u001b[0mcolumns\u001b[0m\u001b[0;34m.\u001b[0m\u001b[0mget_loc\u001b[0m\u001b[0;34m(\u001b[0m\u001b[0mkey\u001b[0m\u001b[0;34m)\u001b[0m\u001b[0;34m\u001b[0m\u001b[0;34m\u001b[0m\u001b[0m\n\u001b[0m\u001b[1;32m   3459\u001b[0m             \u001b[0;32mif\u001b[0m \u001b[0mis_integer\u001b[0m\u001b[0;34m(\u001b[0m\u001b[0mindexer\u001b[0m\u001b[0;34m)\u001b[0m\u001b[0;34m:\u001b[0m\u001b[0;34m\u001b[0m\u001b[0;34m\u001b[0m\u001b[0m\n\u001b[1;32m   3460\u001b[0m                 \u001b[0mindexer\u001b[0m \u001b[0;34m=\u001b[0m \u001b[0;34m[\u001b[0m\u001b[0mindexer\u001b[0m\u001b[0;34m]\u001b[0m\u001b[0;34m\u001b[0m\u001b[0;34m\u001b[0m\u001b[0m\n",
      "\u001b[0;32m/usr/lib/python3.9/site-packages/pandas/core/indexes/base.py\u001b[0m in \u001b[0;36mget_loc\u001b[0;34m(self, key, method, tolerance)\u001b[0m\n\u001b[1;32m   3361\u001b[0m                 \u001b[0;32mreturn\u001b[0m \u001b[0mself\u001b[0m\u001b[0;34m.\u001b[0m\u001b[0m_engine\u001b[0m\u001b[0;34m.\u001b[0m\u001b[0mget_loc\u001b[0m\u001b[0;34m(\u001b[0m\u001b[0mcasted_key\u001b[0m\u001b[0;34m)\u001b[0m\u001b[0;34m\u001b[0m\u001b[0;34m\u001b[0m\u001b[0m\n\u001b[1;32m   3362\u001b[0m             \u001b[0;32mexcept\u001b[0m \u001b[0mKeyError\u001b[0m \u001b[0;32mas\u001b[0m \u001b[0merr\u001b[0m\u001b[0;34m:\u001b[0m\u001b[0;34m\u001b[0m\u001b[0;34m\u001b[0m\u001b[0m\n\u001b[0;32m-> 3363\u001b[0;31m                 \u001b[0;32mraise\u001b[0m \u001b[0mKeyError\u001b[0m\u001b[0;34m(\u001b[0m\u001b[0mkey\u001b[0m\u001b[0;34m)\u001b[0m \u001b[0;32mfrom\u001b[0m \u001b[0merr\u001b[0m\u001b[0;34m\u001b[0m\u001b[0;34m\u001b[0m\u001b[0m\n\u001b[0m\u001b[1;32m   3364\u001b[0m \u001b[0;34m\u001b[0m\u001b[0m\n\u001b[1;32m   3365\u001b[0m         \u001b[0;32mif\u001b[0m \u001b[0mis_scalar\u001b[0m\u001b[0;34m(\u001b[0m\u001b[0mkey\u001b[0m\u001b[0;34m)\u001b[0m \u001b[0;32mand\u001b[0m \u001b[0misna\u001b[0m\u001b[0;34m(\u001b[0m\u001b[0mkey\u001b[0m\u001b[0;34m)\u001b[0m \u001b[0;32mand\u001b[0m \u001b[0;32mnot\u001b[0m \u001b[0mself\u001b[0m\u001b[0;34m.\u001b[0m\u001b[0mhasnans\u001b[0m\u001b[0;34m:\u001b[0m\u001b[0;34m\u001b[0m\u001b[0;34m\u001b[0m\u001b[0m\n",
      "\u001b[0;31mKeyError\u001b[0m: 'Receitas_pc'"
     ]
    }
   ],
   "source": [
    "tabela={'Região':[],'2013':[],'2014':[],'2015':[],'2016':[],'2017':[],'2018':[],'2019':[]}\n",
    "for Região in np.unique(Apuração['Região']):\n",
    "        tabela['Região'].append(Região)\n",
    "        for ano in np.unique(Apuração['ano']):\n",
    "            região = Apuração[(Apuração['Região']==Região) & (Apuração['ano']==ano)]\n",
    "            numerador = sum(região[região['campo']=='RECEITA DE IMPOSTOS LÍQUIDA (I)']['Receitas_pc'])\n",
    "            tabela[str(ano)].append(round(numerador,2))"
   ]
  },
  {
   "cell_type": "code",
   "execution_count": null,
   "id": "978fae16",
   "metadata": {
    "scrolled": true
   },
   "outputs": [],
   "source": [
    "pd.DataFrame(tabela).to_csv(\" 2. Receita Municipal total - Região.csv\")\n",
    "pd.DataFrame(tabela)\n"
   ]
  },
  {
   "cell_type": "markdown",
   "id": "3cad25a2",
   "metadata": {},
   "source": [
    "## 3. Percentual da receita liquida municipal (Capacidade)"
   ]
  },
  {
   "cell_type": "code",
   "execution_count": null,
   "id": "4453b2b2",
   "metadata": {},
   "outputs": [],
   "source": [
    "tabela={'Região':[],'2013':[],'2014':[],'2015':[],'2016':[],'2017':[],'2018':[],'2019':[]}\n",
    "for Região in np.unique(Apuração['Região']):\n",
    "        tabela['Região'].append(Região)\n",
    "        for ano in np.unique(Apuração['ano']):\n",
    "            try:\n",
    "                região = Apuração[(Apuração['Região']==Região) & (Apuração['ano']==ano)]\n",
    "                numerador = sum(região[região['campo']=='RECEITA DE IMPOSTOS LÍQUIDA (I)']['Receitas_realizadas_Bimestre'])\n",
    "                denominador = sum(região[região['campo']== 'TOTAL DAS RECEITAS PARA APURAÇÃO DA APLICAÇÃO EM AÇÕES E SERVIÇOS PÚBLICOS DE SAÚDE (III) = I + II']['Receitas_realizadas_Bimestre'])\n",
    "                tabela[str(ano)].append(numerador/denominador)\n",
    "            except:\n",
    "                tabela[str(ano)].append(0)\n",
    "                "
   ]
  },
  {
   "cell_type": "code",
   "execution_count": null,
   "id": "b3c725f6",
   "metadata": {},
   "outputs": [],
   "source": [
    "pd.DataFrame(tabela).to_csv(\"3. Percentual da receita liquida municipal.csv\")\n",
    "pd.DataFrame(tabela)"
   ]
  },
  {
   "cell_type": "markdown",
   "id": "22672f35",
   "metadata": {},
   "source": [
    "### 4. Percentual da receita Liquida - IDH (Capacidade)"
   ]
  },
  {
   "cell_type": "code",
   "execution_count": null,
   "id": "fad5c8a1",
   "metadata": {},
   "outputs": [],
   "source": [
    "tabela={'IDH':[],'2013':[],'2014':[],'2015':[],'2016':[],'2017':[],'2018':[],'2019':[]}\n",
    "for IDH in np.unique(Apuração['IDH']):\n",
    "        tabela['IDH'].append(IDH)\n",
    "        for ano in np.unique(Apuração['ano']):\n",
    "            try:\n",
    "                região = Apuração[(Apuração['IDH']==IDH) & (Apuração['ano']==ano)]\n",
    "                numerador = sum(região[região['campo']=='RECEITA DE IMPOSTOS LÍQUIDA (I)']['Receitas_realizadas_Bimestre'])\n",
    "                denominador = sum(região[região['campo']== 'TOTAL DAS RECEITAS PARA APURAÇÃO DA APLICAÇÃO EM AÇÕES E SERVIÇOS PÚBLICOS DE SAÚDE (III) = I + II']['Receitas_realizadas_Bimestre'])\n",
    "                tabela[str(ano)].append(numerador/denominador)\n",
    "            except:\n",
    "                tabela[str(ano)].append(0)\n",
    "                "
   ]
  },
  {
   "cell_type": "code",
   "execution_count": null,
   "id": "6a2e0f5a",
   "metadata": {
    "scrolled": true
   },
   "outputs": [],
   "source": [
    "pd.DataFrame(tabela).to_csv(\"4. Percentual da receita Liquida - IDH.csv\")\n",
    "pd.DataFrame(tabela)"
   ]
  },
  {
   "cell_type": "markdown",
   "id": "1f210f59",
   "metadata": {},
   "source": [
    "### 11. Receitas liquida municipal  - Porte (Capacidade)"
   ]
  },
  {
   "cell_type": "code",
   "execution_count": null,
   "id": "a634672a",
   "metadata": {},
   "outputs": [],
   "source": [
    "tabela={'Porte':[],'2013':[],'2014':[],'2015':[],'2016':[],'2017':[],'2018':[],'2019':[]}\n",
    "for Porte in np.unique(Apuração['Porte']):\n",
    "        tabela['Porte'].append(Porte)\n",
    "        for ano in np.unique(Apuração['ano']):\n",
    "            try:\n",
    "                região = Apuração[(Apuração['Porte']==Porte) & (Apuração['ano']==ano)]\n",
    "                numerador = sum(região[região['campo']=='RECEITA DE IMPOSTOS LÍQUIDA (I)']['Receitas_realizadas_Bimestre'])\n",
    "                denominador = sum(região[região['campo']== 'TOTAL DAS RECEITAS PARA APURAÇÃO DA APLICAÇÃO EM AÇÕES E SERVIÇOS PÚBLICOS DE SAÚDE (III) = I + II']['Receitas_realizadas_Bimestre'])\n",
    "                tabela[str(ano)].append(numerador/denominador)\n",
    "            except:\n",
    "                tabela[str(ano)].append(0)"
   ]
  },
  {
   "cell_type": "code",
   "execution_count": null,
   "id": "89f0d06d",
   "metadata": {},
   "outputs": [],
   "source": [
    "pd.DataFrame(tabela).to_csv(\"11. Receitas liquida municipal - Porte.csv\")\n",
    "pd.DataFrame(tabela)\n"
   ]
  },
  {
   "cell_type": "markdown",
   "id": "b85fcbb1",
   "metadata": {},
   "source": [
    "### 5. Receita total per capita - IDH"
   ]
  },
  {
   "cell_type": "code",
   "execution_count": null,
   "id": "4e911eeb",
   "metadata": {},
   "outputs": [],
   "source": [
    "tabela={'IDH':[],'2013':[],'2014':[],'2015':[],'2016':[],'2017':[],'2018':[],'2019':[]}\n",
    "for IDH in np.unique(Apuração['IDH']):\n",
    "        tabela['IDH'].append(IDH)\n",
    "        for ano in np.unique(Apuração['ano']):\n",
    "            try:\n",
    "                região = Apuração[(Apuração['IDH']==IDH) & (Apuração['ano']==ano)]\n",
    "                numerador = sum(região[região['campo']=='TOTAL DAS RECEITAS PARA APURAÇÃO DA APLICAÇÃO EM AÇÕES E SERVIÇOS PÚBLICOS DE SAÚDE (III) = I + II']['Receitas_pc'])\n",
    "                tabela[str(ano)].append(numerador)\n",
    "            except:\n",
    "                tabela[str(ano)].append(0)"
   ]
  },
  {
   "cell_type": "code",
   "execution_count": null,
   "id": "258aab32",
   "metadata": {
    "scrolled": true
   },
   "outputs": [],
   "source": [
    "pd.DataFrame(tabela).to_csv(\"Receita total per capita.csv\")\n",
    "pd.DataFrame(tabela)\n"
   ]
  },
  {
   "cell_type": "markdown",
   "id": "fd8d1a78",
   "metadata": {},
   "source": [
    "### 12. Receita total per capita - porte"
   ]
  },
  {
   "cell_type": "code",
   "execution_count": null,
   "id": "ec6eedb9",
   "metadata": {},
   "outputs": [],
   "source": [
    "tabela={'Porte':[],'2013':[],'2014':[],'2015':[],'2016':[],'2017':[],'2018':[],'2019':[]}\n",
    "for Porte in np.unique(Apuração['Porte']):\n",
    "        tabela['Porte'].append(Porte)\n",
    "        for ano in np.unique(Apuração['ano']):\n",
    "            try:\n",
    "                região = Apuração[(Apuração['Porte']==Porte) & (Apuração['ano']==ano)]\n",
    "                numerador = sum(região[região['campo']=='TOTAL DAS RECEITAS PARA APURAÇÃO DA APLICAÇÃO EM AÇÕES E SERVIÇOS PÚBLICOS DE SAÚDE (III) = I + II']['Receitas_pc'])\n",
    "                tabela[str(ano)].append(numerador)\n",
    "            except:\n",
    "                tabela[str(ano)].append(0)"
   ]
  },
  {
   "cell_type": "code",
   "execution_count": null,
   "id": "6c15c902",
   "metadata": {},
   "outputs": [],
   "source": [
    "pd.DataFrame(tabela).to_csv(\" Receita total per capita.csv\")\n",
    "pd.DataFrame(tabela)"
   ]
  },
  {
   "cell_type": "markdown",
   "id": "1f697c74",
   "metadata": {},
   "source": [
    "### 6. Transferências da União e Estado \n",
    "#### 6.1 Transferências da União "
   ]
  },
  {
   "cell_type": "code",
   "execution_count": null,
   "id": "a0d8b94c",
   "metadata": {},
   "outputs": [],
   "source": [
    "tabela={'Região':[],'2013':[],'2014':[],'2015':[],'2016':[],'2017':[],'2018':[],'2019':[]}\n",
    "for Região in np.unique(Apuração['Região']):\n",
    "        tabela['Região'].append(Região)\n",
    "        for ano in np.unique(Apuração['ano']):\n",
    "            try:\n",
    "                região = Apuração[(Apuração['Região']==Região) & (Apuração['ano']==ano)]\n",
    "                numerador = sum(região[região['campo']==\"Cota-Parte FPM\"]['Receitas_realizadas_Bimestre']) + sum(região[região['campo']==\"Cota-Parte ITR\"]['Receitas_realizadas_Bimestre']) + sum(região[região['campo']==\"Desoneração ICMS (LC 87/96)\"]['Receitas_realizadas_Bimestre'])\n",
    "                denominador = sum(região[região['campo']== 'TOTAL DAS RECEITAS PARA APURAÇÃO DA APLICAÇÃO EM AÇÕES E SERVIÇOS PÚBLICOS DE SAÚDE (III) = I + II']['Receitas_realizadas_Bimestre'])\n",
    "                tabela[str(ano)].append(numerador/denominador)\n",
    "            except:\n",
    "                tabela[str(ano)].append(0)"
   ]
  },
  {
   "cell_type": "code",
   "execution_count": null,
   "id": "3b860a78",
   "metadata": {
    "scrolled": true
   },
   "outputs": [],
   "source": [
    "pd.DataFrame(tabela).to_csv(\"6.1 Transferências da União.csv\")\n",
    "pd.DataFrame(tabela)"
   ]
  },
  {
   "cell_type": "markdown",
   "id": "113afc86",
   "metadata": {},
   "source": [
    "### 13. Transferências da União e Estado \n",
    "#### 13.1 Transferências da União "
   ]
  },
  {
   "cell_type": "code",
   "execution_count": null,
   "id": "71e2e849",
   "metadata": {},
   "outputs": [],
   "source": [
    "tabela={'Porte':[],'2013':[],'2014':[],'2015':[],'2016':[],'2017':[],'2018':[],'2019':[]}\n",
    "for Porte in np.unique(Apuração['Porte']):\n",
    "        tabela['Porte'].append(Porte)\n",
    "        for ano in np.unique(Apuração['ano']):\n",
    "            try:\n",
    "                região = Apuração[(Apuração['Porte']==Porte) & (Apuração['ano']==ano)]\n",
    "                numerador = sum(região[região['campo']==\"Cota-Parte FPM\"]['Receitas_realizadas_Bimestre']) + sum(região[região['campo']==\"Cota-Parte ITR\"]['Receitas_realizadas_Bimestre']) + sum(região[região['campo']==\"Desoneração ICMS (LC 87/96)\"]['Receitas_realizadas_Bimestre'])\n",
    "                denominador = sum(região[região['campo']== 'TOTAL DAS RECEITAS PARA APURAÇÃO DA APLICAÇÃO EM AÇÕES E SERVIÇOS PÚBLICOS DE SAÚDE (III) = I + II']['Receitas_realizadas_Bimestre'])\n",
    "                tabela[str(ano)].append(numerador/denominador)\n",
    "            except:\n",
    "                tabela[str(ano)].append(0)"
   ]
  },
  {
   "cell_type": "code",
   "execution_count": null,
   "id": "7e0ae8b8",
   "metadata": {},
   "outputs": [],
   "source": [
    "pd.DataFrame(tabela).to_csv(\"13.1 Transferências da União - Porte.csv\")\n",
    "pd.DataFrame(tabela)"
   ]
  },
  {
   "cell_type": "markdown",
   "id": "58afbc68",
   "metadata": {},
   "source": [
    "#### 6.2 Transferências do Estado"
   ]
  },
  {
   "cell_type": "code",
   "execution_count": null,
   "id": "b5e0c45b",
   "metadata": {},
   "outputs": [],
   "source": [
    "tabela={'Região':[],'2013':[],'2014':[],'2015':[],'2016':[],'2017':[],'2018':[],'2019':[]}\n",
    "for Região in np.unique(Apuração['Região']):\n",
    "        tabela['Região'].append(Região)\n",
    "        for ano in np.unique(Apuração['ano']):\n",
    "            try:\n",
    "                região = Apuração[(Apuração['Região']==Região) & (Apuração['ano']==ano)]\n",
    "                numerador = sum(região[região['campo']==\"Cota-Parte ICMS\"]['Receitas_realizadas_Bimestre']) + sum(região[região['campo']==\"Cota-Parte IPI-Exportação\"]['Receitas_realizadas_Bimestre']) + sum(região[região['campo']==\"Cota-Parte IPVA\"]['Receitas_realizadas_Bimestre'])\n",
    "                denominador = sum(região[região['campo']== 'TOTAL DAS RECEITAS PARA APURAÇÃO DA APLICAÇÃO EM AÇÕES E SERVIÇOS PÚBLICOS DE SAÚDE (III) = I + II']['Receitas_realizadas_Bimestre'])\n",
    "                tabela[str(ano)].append(numerador/denominador)\n",
    "            except:\n",
    "                tabela[str(ano)].append(0)"
   ]
  },
  {
   "cell_type": "code",
   "execution_count": null,
   "id": "58e39b46",
   "metadata": {
    "scrolled": true
   },
   "outputs": [],
   "source": [
    "pd.DataFrame(tabela).to_csv(\"Transferências do Estado.csv \")\n",
    "pd.DataFrame(tabela)"
   ]
  },
  {
   "cell_type": "markdown",
   "id": "245cf778",
   "metadata": {},
   "source": [
    "#### 13.2 Transferências do Estado"
   ]
  },
  {
   "cell_type": "code",
   "execution_count": null,
   "id": "0ea161b0",
   "metadata": {},
   "outputs": [],
   "source": [
    "tabela={'Porte':[],'2013':[],'2014':[],'2015':[],'2016':[],'2017':[],'2018':[],'2019':[]}\n",
    "for Porte in np.unique(Apuração['Porte']):\n",
    "        tabela['Porte'].append(Porte)\n",
    "        for ano in np.unique(Apuração['ano']):\n",
    "            try:\n",
    "                região = Apuração[(Apuração['Porte']==Porte) & (Apuração['ano']==ano)]\n",
    "                numerador = sum(região[região['campo']==\"Cota-Parte ICMS\"]['Receitas_realizadas_Bimestre']) + sum(região[região['campo']==\"Cota-Parte IPI-Exportação\"]['Receitas_realizadas_Bimestre']) + sum(região[região['campo']==\"Cota-Parte IPVA\"]['Receitas_realizadas_Bimestre'])\n",
    "                denominador = sum(região[região['campo']== 'TOTAL DAS RECEITAS PARA APURAÇÃO DA APLICAÇÃO EM AÇÕES E SERVIÇOS PÚBLICOS DE SAÚDE (III) = I + II']['Receitas_realizadas_Bimestre'])\n",
    "                tabela[str(ano)].append(numerador/denominador)\n",
    "            except:\n",
    "                tabela[str(ano)].append(0)"
   ]
  },
  {
   "cell_type": "code",
   "execution_count": null,
   "id": "8783e32f",
   "metadata": {},
   "outputs": [],
   "source": [
    "pd.DataFrame(tabela).to_csv(\"13.2 Transferências do Estado.csv\")\n",
    "pd.DataFrame(tabela)"
   ]
  },
  {
   "cell_type": "markdown",
   "id": "ba0af326",
   "metadata": {},
   "source": [
    "### 7. Transferências da União e Estado - IDH\n",
    "#### 7.1 Transferências da União "
   ]
  },
  {
   "cell_type": "code",
   "execution_count": null,
   "id": "52fc9815",
   "metadata": {},
   "outputs": [],
   "source": [
    "tabela={'IDH':[],'2013':[],'2014':[],'2015':[],'2016':[],'2017':[],'2018':[],'2019':[]}\n",
    "for IDH in np.unique(Apuração['IDH']):\n",
    "        tabela['IDH'].append(IDH)\n",
    "        for ano in np.unique(Apuração['ano']):\n",
    "            try:\n",
    "                região = Apuração[(Apuração['IDH']==IDH) & (Apuração['ano']==ano)]\n",
    "                numerador = sum(região[região['campo']==\"Cota-Parte FPM\"]['Receitas_realizadas_Bimestre']) + sum(região[região['campo']==\"Cota-Parte ITR\"]['Receitas_realizadas_Bimestre']) + sum(região[região['campo']==\"Desoneração ICMS (LC 87/96)\"]['Receitas_realizadas_Bimestre'])\n",
    "                denominador = sum(região[região['campo']== 'TOTAL DAS RECEITAS PARA APURAÇÃO DA APLICAÇÃO EM AÇÕES E SERVIÇOS PÚBLICOS DE SAÚDE (III) = I + II']['Receitas_realizadas_Bimestre'])\n",
    "                tabela[str(ano)].append(numerador/denominador)\n",
    "            except:\n",
    "                tabela[str(ano)].append(0)"
   ]
  },
  {
   "cell_type": "code",
   "execution_count": null,
   "id": "653b1776",
   "metadata": {},
   "outputs": [],
   "source": [
    "pd.DataFrame(tabela).to_csv(\"7.1 Transferências da União - IDH.csv\")\n",
    "pd.DataFrame(tabela)"
   ]
  },
  {
   "cell_type": "markdown",
   "id": "7a91173c",
   "metadata": {},
   "source": [
    "#### 7.2 Transferências da Estado"
   ]
  },
  {
   "cell_type": "code",
   "execution_count": null,
   "id": "08997b4c",
   "metadata": {},
   "outputs": [],
   "source": [
    "tabela={'IDH':[],'2013':[],'2014':[],'2015':[],'2016':[],'2017':[],'2018':[],'2019':[]}\n",
    "for IDH in np.unique(Apuração['IDH']):\n",
    "        tabela['IDH'].append(IDH)\n",
    "        for ano in np.unique(Apuração['ano']):\n",
    "            try:\n",
    "                região = Apuração[(Apuração['IDH']==IDH) & (Apuração['ano']==ano)]\n",
    "                numerador = sum(região[região['campo']==\"Cota-Parte ICMS\"]['Receitas_realizadas_Bimestre']) + sum(região[região['campo']==\"Cota-Parte IPI-Exportação\"]['Receitas_realizadas_Bimestre']) + sum(região[região['campo']==\"Cota-Parte IPVA\"]['Receitas_realizadas_Bimestre'])\n",
    "                denominador = sum(região[região['campo']== 'TOTAL DAS RECEITAS PARA APURAÇÃO DA APLICAÇÃO EM AÇÕES E SERVIÇOS PÚBLICOS DE SAÚDE (III) = I + II']['Receitas_realizadas_Bimestre'])\n",
    "                tabela[str(ano)].append(numerador/denominador)\n",
    "            except:\n",
    "                tabela[str(ano)].append(0)"
   ]
  },
  {
   "cell_type": "code",
   "execution_count": null,
   "id": "77402194",
   "metadata": {
    "scrolled": true
   },
   "outputs": [],
   "source": [
    "pd.DataFrame(tabela).to_csv(\"7.2 Transferências da Estado.csv\")\n",
    "pd.DataFrame(tabela)"
   ]
  },
  {
   "cell_type": "markdown",
   "id": "44922fa0",
   "metadata": {},
   "source": [
    "### 8. Receita adicional total \n"
   ]
  },
  {
   "cell_type": "code",
   "execution_count": null,
   "id": "be7ba44b",
   "metadata": {},
   "outputs": [],
   "source": [
    "tabela={'Região':[],'2013':[],'2014':[],'2015':[],'2016':[],'2017':[],'2018':[],'2019':[]}\n",
    "for Região in np.unique(Adicional['Região']):\n",
    "        tabela['Região'].append(Região)\n",
    "        for ano in np.unique(Adicional['ano']):\n",
    "            try:\n",
    "                região = Adicional[(Adicional['Região']==Região) & (Adicional['ano']==ano)]\n",
    "                denominador =  sum(região[região['campo']=='TOTAL RECEITAS ADICIONAIS PARA FINANCIAMENTO DA SAÚDE']['Receitas_realizadas_Bimestre'])\n",
    "                tabela[str(ano)].append(round(denominador/1000000,2))\n",
    "            except:\n",
    "                tabela[str(ano)].append(0)"
   ]
  },
  {
   "cell_type": "code",
   "execution_count": null,
   "id": "8b61e4a3",
   "metadata": {
    "scrolled": true
   },
   "outputs": [],
   "source": [
    "pd.DataFrame(tabela).to_csv(\"8. Receita adicional total.csv\")\n",
    "pd.DataFrame(tabela)"
   ]
  },
  {
   "cell_type": "markdown",
   "id": "358b0c87",
   "metadata": {},
   "source": [
    "### 9. Receita adicional total \n"
   ]
  },
  {
   "cell_type": "code",
   "execution_count": null,
   "id": "e73f552f",
   "metadata": {},
   "outputs": [],
   "source": [
    "tabela={'Região':[],'2013':[],'2014':[],'2015':[],'2016':[],'2017':[],'2018':[],'2019':[]}\n",
    "for Região in np.unique(Adicional['Região']):\n",
    "        tabela['Região'].append(Região)\n",
    "        for ano in np.unique(Adicional['ano']):\n",
    "            try:\n",
    "                região = Adicional[(Adicional['Região']==Região) & (Adicional['ano']==ano)]\n",
    "                denominador =  sum(região[região['campo']=='TOTAL RECEITAS ADICIONAIS PARA FINANCIAMENTO DA SAÚDE']['Receitas_pc'])\n",
    "                tabela[str(ano)].append(round(denominador/1000,2))\n",
    "            except:\n",
    "                tabela[str(ano)].append(0)"
   ]
  },
  {
   "cell_type": "code",
   "execution_count": null,
   "id": "86cbdec3",
   "metadata": {
    "scrolled": true
   },
   "outputs": [],
   "source": [
    "pd.DataFrame(tabela).to_csv(\"9. Receita adicional total.csv\")"
   ]
  },
  {
   "cell_type": "markdown",
   "id": "6ad1c56d",
   "metadata": {},
   "source": [
    "### 10. Receita adicional percentual\n",
    "#### União"
   ]
  },
  {
   "cell_type": "code",
   "execution_count": null,
   "id": "a7f8660f",
   "metadata": {},
   "outputs": [],
   "source": [
    "tabela={'Região':[],'2013':[],'2014':[],'2015':[],'2016':[],'2017':[],'2018':[],'2019':[]}\n",
    "for Região in np.unique(Adicional['Região']):\n",
    "        tabela['Região'].append(Região)\n",
    "        for ano in np.unique(Adicional['ano']):\n",
    "            try:\n",
    "                região = Adicional[(Adicional['Região']==Região) & (Adicional['ano']==ano)]\n",
    "                numerador = sum(região[região['campo']=='Provenientes da União']['Receitas_realizadas_Bimestre']) \n",
    "                denominador =  sum(região[região['campo']=='TOTAL RECEITAS ADICIONAIS PARA FINANCIAMENTO DA SAÚDE']['Receitas_realizadas_Bimestre'])\n",
    "                tabela[str(ano)].append(numerador/denominador)\n",
    "            except:\n",
    "                tabela[str(ano)].append(0)"
   ]
  },
  {
   "cell_type": "code",
   "execution_count": null,
   "id": "95db3827",
   "metadata": {
    "scrolled": true
   },
   "outputs": [],
   "source": [
    "pd.DataFrame(tabela).to_csv(\"10.1 Receita adicional percentual - União.csv\")\n",
    "pd.DataFrame(tabela)"
   ]
  },
  {
   "cell_type": "markdown",
   "id": "6fb232ff",
   "metadata": {},
   "source": [
    "#### Estado"
   ]
  },
  {
   "cell_type": "code",
   "execution_count": null,
   "id": "3a40321c",
   "metadata": {},
   "outputs": [],
   "source": [
    "tabela={'Região':[],'2013':[],'2014':[],'2015':[],'2016':[],'2017':[],'2018':[],'2019':[]}\n",
    "for Região in np.unique(Adicional['Região']):\n",
    "        tabela['Região'].append(Região)\n",
    "        for ano in np.unique(Adicional['ano']):\n",
    "            try:\n",
    "                região = Adicional[(Adicional['Região']==Região) & (Adicional['ano']==ano)]\n",
    "                numerador = sum(região[região['campo']=='Provenientes dos Estados']['Receitas_realizadas_Bimestre']) \n",
    "                denominador =  sum(região[região['campo']=='TOTAL RECEITAS ADICIONAIS PARA FINANCIAMENTO DA SAÚDE']['Receitas_realizadas_Bimestre'])\n",
    "                tabela[str(ano)].append(numerador/denominador)\n",
    "            except:\n",
    "                tabela[str(ano)].append(0)"
   ]
  },
  {
   "cell_type": "code",
   "execution_count": null,
   "id": "8b0eaeae",
   "metadata": {
    "scrolled": true
   },
   "outputs": [],
   "source": [
    "pd.DataFrame(tabela).to_csv(\"10.2 Receita adicional percentual - Estado.csv\")\n",
    "pd.DataFrame(tabela)"
   ]
  },
  {
   "cell_type": "markdown",
   "id": "e9e5453e",
   "metadata": {},
   "source": [
    "### 16. Receita adicional percentual IDH\n",
    "#### 16.1 União"
   ]
  },
  {
   "cell_type": "code",
   "execution_count": null,
   "id": "468f7883",
   "metadata": {
    "scrolled": true
   },
   "outputs": [],
   "source": [
    "tabela={'IDH':[],'2013':[],'2014':[],'2015':[],'2016':[],'2017':[],'2018':[],'2019':[]}\n",
    "for IDH in np.unique(Adicional['IDH']):\n",
    "        tabela['IDH'].append(IDH)\n",
    "        for ano in np.unique(Adicional['ano']):\n",
    "            try:\n",
    "                região = Adicional[(Adicional['IDH']==IDH) & (Adicional['ano']==ano)]\n",
    "                numerador = sum(região[região['campo']=='Provenientes da União']['Receitas_realizadas_Bimestre']) \n",
    "                denominador =  sum(região[região['campo']=='TOTAL RECEITAS ADICIONAIS PARA FINANCIAMENTO DA SAÚDE']['Receitas_realizadas_Bimestre'])\n",
    "                tabela[str(ano)].append(numerador/denominador)\n",
    "            except:\n",
    "                tabela[str(ano)].append(0)"
   ]
  },
  {
   "cell_type": "code",
   "execution_count": null,
   "id": "e9292d88",
   "metadata": {},
   "outputs": [],
   "source": [
    "pd.DataFrame(tabela).to_csv(\"16.Receita adicional percentual IDH -União.csv\")\n",
    "pd.DataFrame(tabela)"
   ]
  },
  {
   "cell_type": "markdown",
   "id": "41e7148d",
   "metadata": {},
   "source": [
    "#### 10.1 Estado"
   ]
  },
  {
   "cell_type": "code",
   "execution_count": null,
   "id": "2c41bdd4",
   "metadata": {},
   "outputs": [],
   "source": [
    "tabela={'IDH':[],'2013':[],'2014':[],'2015':[],'2016':[],'2017':[],'2018':[],'2019':[]}\n",
    "for IDH in np.unique(Adicional['IDH']):\n",
    "        tabela['IDH'].append(IDH)\n",
    "        for ano in np.unique(Adicional['ano']):\n",
    "            try:\n",
    "                região = Adicional[(Adicional['IDH']==IDH) & (Adicional['ano']==ano)]\n",
    "                numerador = sum(região[região['campo']=='Provenientes dos Estados']['Receitas_realizadas_Bimestre']) \n",
    "                denominador =  sum(região[região['campo']=='TOTAL RECEITAS ADICIONAIS PARA FINANCIAMENTO DA SAÚDE']['Receitas_realizadas_Bimestre'])\n",
    "                tabela[str(ano)].append(numerador/denominador)\n",
    "            except:\n",
    "                tabela[str(ano)].append(0)"
   ]
  },
  {
   "cell_type": "code",
   "execution_count": null,
   "id": "a50be48f",
   "metadata": {
    "scrolled": true
   },
   "outputs": [],
   "source": [
    "pd.DataFrame(tabela).to_csv(\"10.2.Receita adicional percentual IDH -Estado.csv\")\n",
    "pd.DataFrame(tabela)"
   ]
  },
  {
   "cell_type": "markdown",
   "id": "740934eb",
   "metadata": {},
   "source": [
    "### 15. Receita adicional percentual Porte\n",
    "#### 15.1 União"
   ]
  },
  {
   "cell_type": "code",
   "execution_count": null,
   "id": "add3c55f",
   "metadata": {},
   "outputs": [],
   "source": [
    "tabela={'Porte':[],'2013':[],'2014':[],'2015':[],'2016':[],'2017':[],'2018':[],'2019':[]}\n",
    "for Porte in np.unique(Adicional['Porte']):\n",
    "        tabela['Porte'].append(Porte)\n",
    "        for ano in np.unique(Adicional['ano']):\n",
    "            try:\n",
    "                região = Adicional[(Adicional['Porte']==Porte) & (Adicional['ano']==ano)]\n",
    "                numerador = sum(região[região['campo']=='Provenientes da União']['Receitas_realizadas_Bimestre']) \n",
    "                denominador =  sum(região[região['campo']=='TOTAL RECEITAS ADICIONAIS PARA FINANCIAMENTO DA SAÚDE']['Receitas_realizadas_Bimestre'])\n",
    "                tabela[str(ano)].append(numerador/denominador)\n",
    "            except:\n",
    "                tabela[str(ano)].append(0)"
   ]
  },
  {
   "cell_type": "code",
   "execution_count": null,
   "id": "8558d301",
   "metadata": {
    "scrolled": false
   },
   "outputs": [],
   "source": [
    "pd.DataFrame(tabela).to_csv(\"15. Receita adicional percentual Porte.csv\")\n",
    "pd.DataFrame(tabela)"
   ]
  },
  {
   "cell_type": "markdown",
   "id": "74e8abc1",
   "metadata": {},
   "source": [
    "#### 15.2 Estado"
   ]
  },
  {
   "cell_type": "code",
   "execution_count": null,
   "id": "681382da",
   "metadata": {},
   "outputs": [],
   "source": [
    "tabela={'Porte':[],'2013':[],'2014':[],'2015':[],'2016':[],'2017':[],'2018':[],'2019':[]}\n",
    "for Porte in np.unique(Adicional['Porte']):\n",
    "        tabela['Porte'].append(Porte)\n",
    "        for ano in np.unique(Adicional['ano']):\n",
    "            try:\n",
    "                região = Adicional[(Adicional['Porte']==Porte) & (Adicional['ano']==ano)]\n",
    "                numerador = sum(região[região['campo']=='Provenientes dos Estados']['Receitas_realizadas_Bimestre']) \n",
    "                denominador =  sum(região[região['campo']=='TOTAL RECEITAS ADICIONAIS PARA FINANCIAMENTO DA SAÚDE']['Receitas_realizadas_Bimestre'])\n",
    "                tabela[str(ano)].append(numerador/denominador)\n",
    "            except:\n",
    "                tabela[str(ano)].append(0)"
   ]
  },
  {
   "cell_type": "code",
   "execution_count": null,
   "id": "4d7b86ae",
   "metadata": {},
   "outputs": [],
   "source": [
    "pd.DataFrame(tabela).to_csv(\"15.1 Receita adicional percentual Porte - Estado.csv\")\n",
    "pd.DataFrame(tabela)"
   ]
  }
 ],
 "metadata": {
  "kernelspec": {
   "display_name": "Python 3.9.2 64-bit",
   "language": "python",
   "name": "python39264bit58c471b9b07546f4b2ae2191200cb4a7"
  },
  "language_info": {
   "codemirror_mode": {
    "name": "ipython",
    "version": 3
   },
   "file_extension": ".py",
   "mimetype": "text/x-python",
   "name": "python",
   "nbconvert_exporter": "python",
   "pygments_lexer": "ipython3",
   "version": "3.9.7"
  }
 },
 "nbformat": 4,
 "nbformat_minor": 5
}
